{
 "cells": [
  {
   "cell_type": "markdown",
   "metadata": {
    "application/vnd.databricks.v1+cell": {
     "cellMetadata": {},
     "inputWidgets": {},
     "nuid": "28281e16-e91c-429e-b4b6-e628c8195243",
     "showTitle": false,
     "tableResultSettingsMap": {},
     "title": ""
    }
   },
   "source": [
    "#### Crear Managed Table en el Schema gold\n",
    "- usr JOIN en las tablas \"clientes\" y \"detalles\" para obtener los \"ingresos por clientes\""
   ]
  },
  {
   "cell_type": "code",
   "execution_count": 0,
   "metadata": {
    "application/vnd.databricks.v1+cell": {
     "cellMetadata": {
      "byteLimit": 2048000,
      "rowLimit": 10000
     },
     "inputWidgets": {},
     "nuid": "0476a968-113c-46b6-9098-33b4308f4126",
     "showTitle": false,
     "tableResultSettingsMap": {},
     "title": ""
    }
   },
   "outputs": [],
   "source": [
    "DROP TABLE IF EXISTS telco_dev.gold.ingreso_por_cliente;\n",
    "\n",
    "CREATE TABLE telco_dev.gold.ingreso_por_cliente\n",
    "AS\n",
    "  SELECT C.nombre_completo, SUM(d.precio_mensual) AS ingreso\n",
    "  FROM telco_dev.silver.clientes C\n",
    "  INNER JOIN telco_dev.silver.detalles D\n",
    "  ON C.cliente_id = D.cliente_id\n",
    "  WHERE D.estado=true\n",
    "  GROUP BY C.nombre_completo\n",
    "  ORDER BY ingreso DESC"
   ]
  },
  {
   "cell_type": "code",
   "execution_count": 0,
   "metadata": {
    "application/vnd.databricks.v1+cell": {
     "cellMetadata": {
      "byteLimit": 2048000,
      "rowLimit": 10000
     },
     "inputWidgets": {},
     "nuid": "08983704-eb45-4c0d-983b-46594d8f9dc8",
     "showTitle": false,
     "tableResultSettingsMap": {},
     "title": ""
    }
   },
   "outputs": [],
   "source": [
    "SELECT * FROM telco_dev.gold.ingreso_por_cliente;"
   ]
  }
 ],
 "metadata": {
  "application/vnd.databricks.v1+notebook": {
   "computePreferences": null,
   "dashboards": [],
   "environmentMetadata": {
    "base_environment": "",
    "environment_version": "3"
   },
   "inputWidgetPreferences": null,
   "language": "sql",
   "notebookMetadata": {},
   "notebookName": "05.create_gold_tables",
   "widgets": {}
  },
  "language_info": {
   "name": "sql"
  }
 },
 "nbformat": 4,
 "nbformat_minor": 0
}
