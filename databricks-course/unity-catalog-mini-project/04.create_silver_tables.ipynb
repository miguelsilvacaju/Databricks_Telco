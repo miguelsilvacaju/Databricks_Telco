{
 "cells": [
  {
   "cell_type": "markdown",
   "metadata": {
    "application/vnd.databricks.v1+cell": {
     "cellMetadata": {},
     "inputWidgets": {},
     "nuid": "b78740ae-0099-440b-9a96-e4f416eca437",
     "showTitle": false,
     "tableResultSettingsMap": {},
     "title": ""
    }
   },
   "source": [
    "#### Crear Managed Table en el Schema silver\n",
    "- 1. clientes\n",
    "- 2. detalles"
   ]
  },
  {
   "cell_type": "code",
   "execution_count": 0,
   "metadata": {
    "application/vnd.databricks.v1+cell": {
     "cellMetadata": {
      "byteLimit": 2048000,
      "rowLimit": 10000
     },
     "inputWidgets": {},
     "nuid": "a5767a12-60e3-4fd3-a5c9-358b33a93c9f",
     "showTitle": false,
     "tableResultSettingsMap": {},
     "title": ""
    }
   },
   "outputs": [],
   "source": [
    "DROP TABLE IF EXISTS telco_dev.silver.clientes;  \n",
    "\n",
    "CREATE TABLE IF NOT EXISTS telco_dev.silver.clientes\n",
    "AS\n",
    "  SELECT\n",
    "  clienteId AS cliente_id,\n",
    "  CONCAT(nombre,' ',paterno,' ',materno) AS nombre_completo,\n",
    "  documentoIdentidad AS documento_identidad,\n",
    "  telefono,\n",
    "  email,\n",
    "  direccion,\n",
    "  current_timestamp() AS ingestion_date\n",
    "  FROM telco_dev.bronze.clientes;"
   ]
  },
  {
   "cell_type": "code",
   "execution_count": 0,
   "metadata": {
    "application/vnd.databricks.v1+cell": {
     "cellMetadata": {
      "byteLimit": 2048000,
      "rowLimit": 10000
     },
     "inputWidgets": {},
     "nuid": "62dc5a53-291c-4181-8b43-c9f41879b500",
     "showTitle": false,
     "tableResultSettingsMap": {},
     "title": ""
    }
   },
   "outputs": [],
   "source": [
    "SELECT * FROM telco_dev.silver.clientes;"
   ]
  },
  {
   "cell_type": "code",
   "execution_count": 0,
   "metadata": {
    "application/vnd.databricks.v1+cell": {
     "cellMetadata": {
      "byteLimit": 2048000,
      "rowLimit": 10000
     },
     "inputWidgets": {},
     "nuid": "600b5a80-39ed-4839-b85b-264ce3253b10",
     "showTitle": false,
     "tableResultSettingsMap": {},
     "title": ""
    }
   },
   "outputs": [],
   "source": [
    "DROP TABLE IF EXISTS telco_dev.silver.detalles;\n",
    "\n",
    "CREATE TABLE IF NOT EXISTS telco_dev.silver.detalles\n",
    "AS\n",
    "  SELECT\n",
    "  detalleId AS detalle_id,\n",
    "  clienteId AS cliente_id,\n",
    "  servicio,\n",
    "  plan,\n",
    "  precioMensual AS precio_mensual,\n",
    "  estado,\n",
    "  fechaInicio AS fecha_inicio,\n",
    "  fechaFin AS fecha_fin,\n",
    "  current_timestamp() AS ingestion_date\n",
    "  FROM telco_dev.bronze.detalles;"
   ]
  },
  {
   "cell_type": "code",
   "execution_count": 0,
   "metadata": {
    "application/vnd.databricks.v1+cell": {
     "cellMetadata": {
      "byteLimit": 2048000,
      "rowLimit": 10000
     },
     "inputWidgets": {},
     "nuid": "55ee183c-f12e-4516-843c-7ee939e8b57b",
     "showTitle": false,
     "tableResultSettingsMap": {},
     "title": ""
    }
   },
   "outputs": [],
   "source": [
    "SELECT * FROM telco_dev.silver.detalles;"
   ]
  }
 ],
 "metadata": {
  "application/vnd.databricks.v1+notebook": {
   "computePreferences": null,
   "dashboards": [],
   "environmentMetadata": {
    "base_environment": "",
    "environment_version": "3"
   },
   "inputWidgetPreferences": null,
   "language": "sql",
   "notebookMetadata": {
    "pythonIndentUnit": 4
   },
   "notebookName": "04.create_silver_tables",
   "widgets": {}
  },
  "language_info": {
   "name": "sql"
  }
 },
 "nbformat": 4,
 "nbformat_minor": 0
}
